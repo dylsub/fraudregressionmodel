{
 "cells": [
  {
   "cell_type": "markdown",
   "id": "61130c6a",
   "metadata": {},
   "source": [
    "# Fetching data"
   ]
  },
  {
   "cell_type": "code",
   "execution_count": 1,
   "id": "c9df2287",
   "metadata": {},
   "outputs": [
    {
     "name": "stdout",
     "output_type": "stream",
     "text": [
      "Requirement already satisfied: pyspark in c:\\users\\hairb\\anaconda3\\lib\\site-packages (3.5.1)\n",
      "Requirement already satisfied: py4j==0.10.9.7 in c:\\users\\hairb\\anaconda3\\lib\\site-packages (from pyspark) (0.10.9.7)\n"
     ]
    }
   ],
   "source": [
    "!pip install pyspark"
   ]
  },
  {
   "cell_type": "code",
   "execution_count": 1,
   "id": "7b71cc41",
   "metadata": {},
   "outputs": [],
   "source": [
    "import pyspark\n",
    "import pandas as pd"
   ]
  },
  {
   "cell_type": "code",
   "execution_count": 2,
   "id": "7cf07a13",
   "metadata": {},
   "outputs": [],
   "source": [
    "from pyspark.sql import SparkSession\n",
    "import pyspark.sql.functions as F\n",
    "import pyspark.sql.types as T\n",
    "\n",
    "spark = SparkSession.builder.appName(\"Fraud\").getOrCreate()"
   ]
  },
  {
   "cell_type": "code",
   "execution_count": 6,
   "id": "8708ee97",
   "metadata": {},
   "outputs": [
    {
     "name": "stdout",
     "output_type": "stream",
     "text": [
      "+----+--------+--------+-----------+-------------+--------------+-----------+--------------+--------------+-------+--------------+\n",
      "|step|    type|  amount|   nameOrig|oldbalanceOrg|newbalanceOrig|   nameDest|oldbalanceDest|newbalanceDest|isFraud|isFlaggedFraud|\n",
      "+----+--------+--------+-----------+-------------+--------------+-----------+--------------+--------------+-------+--------------+\n",
      "|   1| PAYMENT| 9839.64|C1231006815|     170136.0|     160296.36|M1979787155|           0.0|           0.0|      0|             0|\n",
      "|   1| PAYMENT| 1864.28|C1666544295|      21249.0|      19384.72|M2044282225|           0.0|           0.0|      0|             0|\n",
      "|   1|TRANSFER|   181.0|C1305486145|        181.0|           0.0| C553264065|           0.0|           0.0|      1|             0|\n",
      "|   1|CASH_OUT|   181.0| C840083671|        181.0|           0.0|  C38997010|       21182.0|           0.0|      1|             0|\n",
      "|   1| PAYMENT|11668.14|C2048537720|      41554.0|      29885.86|M1230701703|           0.0|           0.0|      0|             0|\n",
      "+----+--------+--------+-----------+-------------+--------------+-----------+--------------+--------------+-------+--------------+\n",
      "only showing top 5 rows\n",
      "\n"
     ]
    }
   ],
   "source": [
    "df = spark.read.csv(\"transactiondata.csv\", header=True, inferSchema=True)\n",
    "df.show(5)"
   ]
  },
  {
   "cell_type": "markdown",
   "id": "0f6c1b7f",
   "metadata": {},
   "source": [
    "# Data Preprocessing"
   ]
  },
  {
   "cell_type": "code",
   "execution_count": 4,
   "id": "10e63548",
   "metadata": {},
   "outputs": [
    {
     "name": "stdout",
     "output_type": "stream",
     "text": [
      "root\n",
      " |-- step: integer (nullable = true)\n",
      " |-- type: string (nullable = true)\n",
      " |-- amount: double (nullable = true)\n",
      " |-- nameOrig: string (nullable = true)\n",
      " |-- oldbalanceOrg: double (nullable = true)\n",
      " |-- newbalanceOrig: double (nullable = true)\n",
      " |-- nameDest: string (nullable = true)\n",
      " |-- oldbalanceDest: double (nullable = true)\n",
      " |-- newbalanceDest: double (nullable = true)\n",
      " |-- isFraud: integer (nullable = true)\n",
      " |-- isFlaggedFraud: integer (nullable = true)\n",
      "\n"
     ]
    }
   ],
   "source": [
    "df.printSchema()"
   ]
  },
  {
   "cell_type": "code",
   "execution_count": 8,
   "id": "28be40b7",
   "metadata": {},
   "outputs": [
    {
     "name": "stdout",
     "output_type": "stream",
     "text": [
      "+-------+-------+-------------+--------------+-------+\n",
      "|   type| amount|oldbalanceOrg|newbalanceOrig|isFraud|\n",
      "+-------+-------+-------------+--------------+-------+\n",
      "|PAYMENT|9839.64|     170136.0|     160296.36|      0|\n",
      "|PAYMENT|1864.28|      21249.0|      19384.72|      0|\n",
      "+-------+-------+-------------+--------------+-------+\n",
      "only showing top 2 rows\n",
      "\n"
     ]
    }
   ],
   "source": [
    "df = df.select(\"type\", \"amount\", \"oldbalanceOrg\", \"newbalanceOrig\", \"isFraud\")\n",
    "df.show(2)"
   ]
  },
  {
   "cell_type": "markdown",
   "id": "0e5f440f",
   "metadata": {},
   "source": [
    "# Train/test split"
   ]
  },
  {
   "cell_type": "code",
   "execution_count": 12,
   "id": "be6c21cb",
   "metadata": {},
   "outputs": [],
   "source": [
    "train, test = df.randomSplit([0.7, 0.3], seed=7)"
   ]
  },
  {
   "cell_type": "code",
   "execution_count": 13,
   "id": "b2e08441",
   "metadata": {},
   "outputs": [
    {
     "name": "stdout",
     "output_type": "stream",
     "text": [
      "Train set length: 4454328 records\n",
      "Test set length: 1908292 records\n"
     ]
    }
   ],
   "source": [
    "print(f\"Train set length: {train.count()} records\")\n",
    "print(f\"Test set length: {test.count()} records\")"
   ]
  },
  {
   "cell_type": "code",
   "execution_count": 14,
   "id": "5a9db71b",
   "metadata": {},
   "outputs": [
    {
     "name": "stdout",
     "output_type": "stream",
     "text": [
      "+-------+------+-------------+--------------+-------+\n",
      "|   type|amount|oldbalanceOrg|newbalanceOrig|isFraud|\n",
      "+-------+------+-------------+--------------+-------+\n",
      "|CASH_IN|  5.66|   5061561.06|    5061566.72|      0|\n",
      "|CASH_IN| 13.86|   6868100.18|    6868114.04|      0|\n",
      "|CASH_IN| 14.54|    3347286.5|    3347301.03|      0|\n",
      "|CASH_IN| 15.52|   4368030.06|    4368045.59|      0|\n",
      "|CASH_IN| 17.33|   8964056.72|    8964074.05|      0|\n",
      "+-------+------+-------------+--------------+-------+\n",
      "only showing top 5 rows\n",
      "\n"
     ]
    }
   ],
   "source": [
    "train.show(5)"
   ]
  },
  {
   "cell_type": "markdown",
   "id": "d164169e",
   "metadata": {},
   "source": [
    "# Datatypes\n",
    "##### In this dataset, any column of type string is treated as a categorical feature, but sometimes we might have numeric features we want treated as categorical or vice versa. We'll need to carefully identify which columns are numeric and which are categorical."
   ]
  },
  {
   "cell_type": "code",
   "execution_count": 15,
   "id": "1daddea8",
   "metadata": {},
   "outputs": [
    {
     "data": {
      "text/plain": [
       "[('type', 'string'),\n",
       " ('amount', 'double'),\n",
       " ('oldbalanceOrg', 'double'),\n",
       " ('newbalanceOrig', 'double'),\n",
       " ('isFraud', 'int')]"
      ]
     },
     "execution_count": 15,
     "metadata": {},
     "output_type": "execute_result"
    }
   ],
   "source": [
    "train.dtypes"
   ]
  },
  {
   "cell_type": "code",
   "execution_count": 18,
   "id": "2ba2caa0",
   "metadata": {},
   "outputs": [
    {
     "name": "stdout",
     "output_type": "stream",
     "text": [
      "['type']\n",
      "['amount', 'oldbalanceOrg', 'newbalanceOrig']\n"
     ]
    }
   ],
   "source": [
    "catCols = [x for (x, dataType) in train.dtypes if dataType == \"string\"]\n",
    "numCols = [x for (x, dataType) in train.dtypes if ((dataType == \"double\") and (x != \"isFraud\"))]\n",
    "print(catCols)\n",
    "print(numCols)"
   ]
  },
  {
   "cell_type": "markdown",
   "id": "ba5661c2",
   "metadata": {},
   "source": [
    "# One hot encoding\n",
    "###### StringIndexer: Converts a single feature to an index feature\n",
    "###### OneHotEncoder: Maps a column of category indices to a column of binary vectors"
   ]
  },
  {
   "cell_type": "code",
   "execution_count": 19,
   "id": "80c7c255",
   "metadata": {},
   "outputs": [
    {
     "name": "stdout",
     "output_type": "stream",
     "text": [
      "+--------------------+\n",
      "|count(DISTINCT type)|\n",
      "+--------------------+\n",
      "|                   5|\n",
      "+--------------------+\n",
      "\n"
     ]
    }
   ],
   "source": [
    "train.agg(F.countDistinct(\"type\")).show()"
   ]
  },
  {
   "cell_type": "code",
   "execution_count": 20,
   "id": "e1880920",
   "metadata": {},
   "outputs": [
    {
     "name": "stdout",
     "output_type": "stream",
     "text": [
      "+--------+-------+\n",
      "|    type|  count|\n",
      "+--------+-------+\n",
      "|TRANSFER| 372938|\n",
      "| CASH_IN| 979390|\n",
      "|CASH_OUT|1565416|\n",
      "| PAYMENT|1507530|\n",
      "|   DEBIT|  29054|\n",
      "+--------+-------+\n",
      "\n"
     ]
    }
   ],
   "source": [
    "train.groupBy(\"type\").count().show()"
   ]
  },
  {
   "cell_type": "code",
   "execution_count": 23,
   "id": "41637498",
   "metadata": {},
   "outputs": [],
   "source": [
    "from pyspark.ml.feature import (\n",
    "    OneHotEncoder,\n",
    "    StringIndexer,\n",
    ")"
   ]
  },
  {
   "cell_type": "code",
   "execution_count": 26,
   "id": "5cde4b39",
   "metadata": {},
   "outputs": [],
   "source": [
    "string_indexer = [\n",
    "    StringIndexer(inputCol = x, outputCol = x + \"_StringIndexer\", handleInvalid=\"skip\")\n",
    "    for x in catCols\n",
    "]"
   ]
  },
  {
   "cell_type": "code",
   "execution_count": 27,
   "id": "87a6b314",
   "metadata": {},
   "outputs": [
    {
     "data": {
      "text/plain": [
       "[StringIndexer_477bdfba1eb1]"
      ]
     },
     "execution_count": 27,
     "metadata": {},
     "output_type": "execute_result"
    }
   ],
   "source": [
    "string_indexer"
   ]
  },
  {
   "cell_type": "code",
   "execution_count": 30,
   "id": "27c5b642",
   "metadata": {},
   "outputs": [],
   "source": [
    "one_hot_encoder = [\n",
    "    OneHotEncoder(\n",
    "        inputCols = [f\"{x}_StringIndexer\" for x in catCols],\n",
    "        outputCols=[f\"{x}_OneHotEncoder\" for x in catCols]\n",
    "    )\n",
    "]"
   ]
  },
  {
   "cell_type": "code",
   "execution_count": 31,
   "id": "a66489a1",
   "metadata": {},
   "outputs": [
    {
     "data": {
      "text/plain": [
       "[OneHotEncoder_b7f0fe948eed]"
      ]
     },
     "execution_count": 31,
     "metadata": {},
     "output_type": "execute_result"
    }
   ],
   "source": [
    "one_hot_encoder"
   ]
  },
  {
   "cell_type": "markdown",
   "id": "19e9d97e",
   "metadata": {},
   "source": [
    "# Vector Assembling\n",
    "###### Vector Assembler: Combines the values of input columns into a single vector"
   ]
  },
  {
   "cell_type": "code",
   "execution_count": 35,
   "id": "177533c2",
   "metadata": {},
   "outputs": [],
   "source": [
    "from pyspark.ml.feature import VectorAssembler"
   ]
  },
  {
   "cell_type": "code",
   "execution_count": 36,
   "id": "870889fa",
   "metadata": {},
   "outputs": [
    {
     "data": {
      "text/plain": [
       "['amount', 'oldbalanceOrg', 'newbalanceOrig', 'type_OneHotEncoder']"
      ]
     },
     "execution_count": 36,
     "metadata": {},
     "output_type": "execute_result"
    }
   ],
   "source": [
    "assemblerInput = [x for x in numCols]\n",
    "assemblerInput += [f\"{x}_OneHotEncoder\" for x in catCols]\n",
    "assemblerInput"
   ]
  },
  {
   "cell_type": "code",
   "execution_count": 38,
   "id": "901ef9c5",
   "metadata": {},
   "outputs": [],
   "source": [
    "vector_assembler = VectorAssembler(\n",
    "    inputCols = assemblerInput, outputCol=\"VectorAssembler_features\"\n",
    ")"
   ]
  },
  {
   "cell_type": "code",
   "execution_count": 41,
   "id": "f5ca94b4",
   "metadata": {},
   "outputs": [],
   "source": [
    "stages = []\n",
    "stages += string_indexer\n",
    "stages += one_hot_encoder\n",
    "stages += [vector_assembler]"
   ]
  },
  {
   "cell_type": "code",
   "execution_count": 42,
   "id": "c54b26bf",
   "metadata": {},
   "outputs": [
    {
     "data": {
      "text/plain": [
       "[StringIndexer_477bdfba1eb1,\n",
       " OneHotEncoder_b7f0fe948eed,\n",
       " VectorAssembler_8e7f278a1112]"
      ]
     },
     "execution_count": 42,
     "metadata": {},
     "output_type": "execute_result"
    }
   ],
   "source": [
    "stages"
   ]
  },
  {
   "cell_type": "code",
   "execution_count": 46,
   "id": "b850f2fd",
   "metadata": {},
   "outputs": [],
   "source": [
    "from pyspark.ml import Pipeline\n",
    "\n",
    "pipeline = Pipeline().setStages(stages)\n",
    "model = pipeline.fit(train)\n",
    "\n",
    "pp_df = model.transform(test)"
   ]
  },
  {
   "cell_type": "code",
   "execution_count": 50,
   "id": "df9658b8",
   "metadata": {},
   "outputs": [
    {
     "name": "stdout",
     "output_type": "stream",
     "text": [
      "+-------+------+-------------+--------------+--------------------------------------------------+\n",
      "|type   |amount|oldbalanceOrg|newbalanceOrig|VectorAssembler_features                          |\n",
      "+-------+------+-------------+--------------+--------------------------------------------------+\n",
      "|CASH_IN|14.4  |1.143460813E7|1.143462253E7 |[14.4,1.143460813E7,1.143462253E7,0.0,0.0,1.0,0.0]|\n",
      "|CASH_IN|15.59 |1.64294897E7 |1.642950528E7 |[15.59,1.64294897E7,1.642950528E7,0.0,0.0,1.0,0.0]|\n",
      "|CASH_IN|21.15 |2729078.29   |2729099.44    |[21.15,2729078.29,2729099.44,0.0,0.0,1.0,0.0]     |\n",
      "|CASH_IN|35.47 |3796691.21   |3796726.68    |[35.47,3796691.21,3796726.68,0.0,0.0,1.0,0.0]     |\n",
      "|CASH_IN|37.11 |1452790.24   |1452827.35    |[37.11,1452790.24,1452827.35,0.0,0.0,1.0,0.0]     |\n",
      "+-------+------+-------------+--------------+--------------------------------------------------+\n",
      "only showing top 5 rows\n",
      "\n"
     ]
    }
   ],
   "source": [
    "pp_df.select(\n",
    "    \"type\", \"amount\", \"oldbalanceOrg\", \"newbalanceOrig\", \"VectorAssembler_features\"\n",
    ").show(5, truncate=False)"
   ]
  },
  {
   "cell_type": "markdown",
   "id": "b40a1049",
   "metadata": {},
   "source": [
    "# Logistic Regression"
   ]
  },
  {
   "cell_type": "code",
   "execution_count": 51,
   "id": "03273463",
   "metadata": {},
   "outputs": [],
   "source": [
    "from pyspark.ml.classification import LogisticRegression"
   ]
  },
  {
   "cell_type": "code",
   "execution_count": 52,
   "id": "2cdf07e3",
   "metadata": {},
   "outputs": [],
   "source": [
    "data = pp_df.select(\n",
    "    F.col(\"VectorAssembler_features\").alias(\"features\"),\n",
    "    F.col(\"isFraud\").alias(\"label\")\n",
    ")"
   ]
  },
  {
   "cell_type": "code",
   "execution_count": 53,
   "id": "a74ee4ac",
   "metadata": {},
   "outputs": [
    {
     "name": "stdout",
     "output_type": "stream",
     "text": [
      "+--------------------------------------------------+-----+\n",
      "|features                                          |label|\n",
      "+--------------------------------------------------+-----+\n",
      "|[14.4,1.143460813E7,1.143462253E7,0.0,0.0,1.0,0.0]|0    |\n",
      "|[15.59,1.64294897E7,1.642950528E7,0.0,0.0,1.0,0.0]|0    |\n",
      "|[21.15,2729078.29,2729099.44,0.0,0.0,1.0,0.0]     |0    |\n",
      "|[35.47,3796691.21,3796726.68,0.0,0.0,1.0,0.0]     |0    |\n",
      "|[37.11,1452790.24,1452827.35,0.0,0.0,1.0,0.0]     |0    |\n",
      "+--------------------------------------------------+-----+\n",
      "only showing top 5 rows\n",
      "\n"
     ]
    }
   ],
   "source": [
    "data.show(5, truncate=False)"
   ]
  },
  {
   "cell_type": "code",
   "execution_count": 54,
   "id": "3197bcd5",
   "metadata": {},
   "outputs": [],
   "source": [
    "model = LogisticRegression().fit(data)"
   ]
  },
  {
   "cell_type": "code",
   "execution_count": 55,
   "id": "e2453eed",
   "metadata": {},
   "outputs": [
    {
     "data": {
      "text/plain": [
       "0.9910301298957835"
      ]
     },
     "execution_count": 55,
     "metadata": {},
     "output_type": "execute_result"
    }
   ],
   "source": [
    "model.summary.areaUnderROC"
   ]
  },
  {
   "cell_type": "code",
   "execution_count": 57,
   "id": "cb2b9f2a",
   "metadata": {},
   "outputs": [
    {
     "name": "stdout",
     "output_type": "stream",
     "text": [
      "+-------------------+-------------------+\n",
      "|             recall|          precision|\n",
      "+-------------------+-------------------+\n",
      "|                0.0| 0.9109311740890689|\n",
      "| 0.3654080389768575| 0.9109311740890689|\n",
      "|0.47381242387332523| 0.6476137624861266|\n",
      "|  0.535931790499391| 0.5045871559633027|\n",
      "| 0.5826228177019894|0.41836734693877553|\n",
      "| 0.6175395858708892|0.35838831291234685|\n",
      "| 0.6443361753958587| 0.3137603795966785|\n",
      "| 0.6776289078359724| 0.2842302452316076|\n",
      "| 0.6975233455136013| 0.2569548309901286|\n",
      "| 0.7170117742590337|0.23546666666666666|\n",
      "| 0.7344701583434835| 0.2175847967284099|\n",
      "| 0.7458384084449858|0.20124890446976337|\n",
      "| 0.7600487210718636|0.18829209414604708|\n",
      "| 0.7722289890377588|0.17683153588694683|\n",
      "| 0.7864393016646366|0.16741573033707866|\n",
      "| 0.7978075517661388|0.15867248062015504|\n",
      "| 0.8079577750710516| 0.1507804212759509|\n",
      "| 0.8103938286642306| 0.1424493291464459|\n",
      "| 0.8136419001218027|0.13516794819910968|\n",
      "| 0.8168899715793747| 0.1286445012787724|\n",
      "+-------------------+-------------------+\n",
      "only showing top 20 rows\n",
      "\n"
     ]
    }
   ],
   "source": [
    "model.summary.pr.show()"
   ]
  },
  {
   "cell_type": "code",
   "execution_count": 58,
   "id": "61703f76",
   "metadata": {},
   "outputs": [],
   "source": [
    "model = LogisticRegression().fit(data)"
   ]
  },
  {
   "cell_type": "code",
   "execution_count": 59,
   "id": "5397286e",
   "metadata": {},
   "outputs": [
    {
     "data": {
      "text/plain": [
       "0.9910302156425086"
      ]
     },
     "execution_count": 59,
     "metadata": {},
     "output_type": "execute_result"
    }
   ],
   "source": [
    "model.summary.areaUnderROC"
   ]
  },
  {
   "cell_type": "code",
   "execution_count": 60,
   "id": "89186bd1",
   "metadata": {},
   "outputs": [
    {
     "name": "stdout",
     "output_type": "stream",
     "text": [
      "+-------------------+-------------------+\n",
      "|             recall|          precision|\n",
      "+-------------------+-------------------+\n",
      "|                0.0| 0.9109311740890689|\n",
      "| 0.3654080389768575| 0.9109311740890689|\n",
      "|0.47381242387332523| 0.6476137624861266|\n",
      "|  0.535931790499391| 0.5045871559633027|\n",
      "| 0.5826228177019894|0.41836734693877553|\n",
      "| 0.6175395858708892|0.35838831291234685|\n",
      "| 0.6443361753958587| 0.3137603795966785|\n",
      "| 0.6776289078359724| 0.2842302452316076|\n",
      "| 0.6975233455136013| 0.2569548309901286|\n",
      "| 0.7170117742590337|0.23546666666666666|\n",
      "| 0.7344701583434835| 0.2175847967284099|\n",
      "| 0.7458384084449858|0.20124890446976337|\n",
      "| 0.7600487210718636|0.18829209414604708|\n",
      "| 0.7722289890377588|0.17683153588694683|\n",
      "| 0.7864393016646366|0.16741573033707866|\n",
      "| 0.7978075517661388|0.15867248062015504|\n",
      "| 0.8079577750710516| 0.1507804212759509|\n",
      "| 0.8103938286642306| 0.1424493291464459|\n",
      "| 0.8136419001218027|0.13516794819910968|\n",
      "| 0.8168899715793747| 0.1286445012787724|\n",
      "+-------------------+-------------------+\n",
      "only showing top 20 rows\n",
      "\n"
     ]
    }
   ],
   "source": [
    "model.summary.pr.show()"
   ]
  },
  {
   "cell_type": "code",
   "execution_count": null,
   "id": "5ea6071b",
   "metadata": {},
   "outputs": [],
   "source": []
  }
 ],
 "metadata": {
  "kernelspec": {
   "display_name": "Python 3 (ipykernel)",
   "language": "python",
   "name": "python3"
  },
  "language_info": {
   "codemirror_mode": {
    "name": "ipython",
    "version": 3
   },
   "file_extension": ".py",
   "mimetype": "text/x-python",
   "name": "python",
   "nbconvert_exporter": "python",
   "pygments_lexer": "ipython3",
   "version": "3.10.9"
  }
 },
 "nbformat": 4,
 "nbformat_minor": 5
}
